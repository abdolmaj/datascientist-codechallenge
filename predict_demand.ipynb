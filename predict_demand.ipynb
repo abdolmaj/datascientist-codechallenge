{
 "cells": [
  {
   "cell_type": "code",
   "execution_count": 77,
   "id": "6920c089-a5d3-4bc7-817b-5cf5ab9b4268",
   "metadata": {},
   "outputs": [],
   "source": [
    "import pandas as pd\n",
    "import numpy as np\n",
    "import matplotlib.pyplot as plt\n",
    "import seaborn as sns\n",
    "import holidays\n",
    "%matplotlib inline\n",
    "sns.set_style('dark')\n",
    "\n",
    "import keras\n",
    "import tensorflow\n",
    "from keras.metrics import mean_squared_error\n",
    "from sklearn.preprocessing import MinMaxScaler\n",
    "from sklearn.metrics import mean_absolute_error\n",
    "from sklearn.pipeline import make_pipeline"
   ]
  },
  {
   "cell_type": "markdown",
   "id": "18ce51f7-1f1a-4928-9f24-3a68c58c0412",
   "metadata": {},
   "source": [
    "### Utility functions\n",
    "\n"
   ]
  },
  {
   "cell_type": "code",
   "execution_count": 80,
   "id": "c36a487f-6101-4654-bd31-e6c4591c2ed7",
   "metadata": {},
   "outputs": [],
   "source": [
    "#calculate mae\n",
    "def sam_mape(actual, predicted):\n",
    "    \n",
    "    #calcualtes the mean absolute percent error \n",
    "        \n",
    "    return np.mean(np.abs((actual - predicted) / actual)) * 100"
   ]
  },
  {
   "cell_type": "code",
   "execution_count": 115,
   "id": "9fca16c3-3e56-4644-836e-da105fef41c2",
   "metadata": {},
   "outputs": [],
   "source": [
    "#time series split \n",
    "    \n",
    "def split_sequences(sequences, n_steps, extra_lag=False, long_lag_step=7, max_step=30, idx=0):\n",
    "    \n",
    "    \n",
    "    #if not adding extra lag features adjust max_step and n_steps to aling\n",
    "    if not extra_lag:\n",
    "        max_step=n_steps\n",
    "        n_steps+=1\n",
    "        \n",
    "    \n",
    "    X, y = list(), list()\n",
    "    for i in range(len(sequences)):\n",
    "        \n",
    "        # find the end of this pattern\n",
    "        \n",
    "        end_ix = i + max_step\n",
    "        \n",
    "        #list with the indexes to include in each sample\n",
    "        slices = [x for x in range(end_ix-1,end_ix-n_steps, -1)] + [y for y in range(end_ix-n_steps, i, -long_lag_step)]\n",
    "        \n",
    "        #reverse indexes\n",
    "        slices = list(reversed(slices))\n",
    "        \n",
    "        # check if beyond the dataset\n",
    "        if end_ix > len(sequences)-1:\n",
    "            break\n",
    "\n",
    "\n",
    "        # obtain input and output parts \n",
    "        seq_x = sequences[slices, :]\n",
    "        seq_y = sequences[end_ix, :]\n",
    "\n",
    "        X.append(seq_x)\n",
    "        y.append(seq_y)\n",
    "        \n",
    "    X = np.array(X)\n",
    "    y = np.array(y)\n",
    "    \n",
    "    #obtain the first element (the demand)\n",
    "    y = y[:,idx]\n",
    "    \n",
    "    return X, y"
   ]
  },
  {
   "cell_type": "code",
   "execution_count": 117,
   "id": "b11ff0cd-765c-41e9-9466-535f7c82d8df",
   "metadata": {},
   "outputs": [],
   "source": [
    "#time series feature extraction for the input to LSTM\n",
    "def lstm_data(scaler=None, start='2016-01-01', stop='2016-01-05', n_lags=7, extra_lag=False, long_lag_step=7, max_lookback=30): \n",
    "    #load in the prepared dataset\n",
    "    all_data = pd.read_csv('./data/clean_data_ondemand_pca.csv', parse_dates=True, index_col=0)\n",
    "\n",
    "    #select data time slice\n",
    "    data = all_data[start: stop].copy()\n",
    "    \n",
    "    #reshape the energy load columns to prepare for minmax scaling\n",
    "    energy = data['Ontario_Demand'].values.reshape(-1,1)\n",
    "    \n",
    "    #minmax scale the energy column\n",
    "    if scaler==None:\n",
    "        scaler = MinMaxScaler().fit(energy)\n",
    "        \n",
    "    data_normd = scaler.transform(energy)\n",
    "    \n",
    "    #reset the energy column to the actual loads\n",
    "    data['Ontario_Demand'] = data_normd.copy()\n",
    "    \n",
    "    #create single columns with time features\n",
    "    data.loc[:,'year'] = data.index.year\n",
    "    data.loc[:,'month'] = data.index.month\n",
    "    data.loc[:,'day'] = data.index.day\n",
    "    data.loc[:,'hours'] = data.index.hour\n",
    "    \n",
    "    hours_tup = [] \n",
    "\n",
    "    #for each unique hour isolate the features and dates\n",
    "    for h in data.hours.unique():\n",
    "        \n",
    "        #boolean mask for each hour of the day\n",
    "        hour = data[data.hours==h].copy()\n",
    "        #drop extra columns\n",
    "        hour.drop(['year', 'month', 'day', 'hours'], axis=1, inplace=True)\n",
    "        #reshape 2D into a 3D matrix for stacking\n",
    "        hour = np.reshape(hour.values, (hour.shape[0], hour.shape[1], 1))\n",
    "        #append each 3d slice into list\n",
    "        hours_tup.append(hour)\n",
    "    \n",
    "    \n",
    "    tup = tuple(hours_tup)\n",
    "    \n",
    "    #stack all the 3D arrays into 1 single 3D array\n",
    "    hours_stacked = np.dstack(tup)\n",
    "    \n",
    "    #make samples from hours stacked\n",
    "    X_4d, y = split_sequences(hours_stacked, \n",
    "                           n_lags, \n",
    "                           extra_lag=extra_lag, \n",
    "                           long_lag_step=long_lag_step, \n",
    "                           max_step=max_lookback, \n",
    "                           idx=0 \n",
    "                           )\n",
    "    \n",
    "    \n",
    "    \n",
    "    X = []\n",
    "\n",
    "    #flatten the multidimensional arrays into a single array of lags & features, hours\n",
    "    for j in range(len(X_4d)):\n",
    "        #reshape the inner dimensions\n",
    "        n = X_4d[j].reshape(-1, hours_stacked.shape[-1])\n",
    "        X.append(n)\n",
    "    \n",
    "    X = np.array(X)\n",
    "    \n",
    "    \n",
    "    return X, y, scaler"
   ]
  },
  {
   "cell_type": "code",
   "execution_count": 119,
   "id": "6af999e1-f9b7-44e8-92a8-886b2e54687e",
   "metadata": {},
   "outputs": [
    {
     "data": {
      "text/plain": [
       "((10, 77, 24), (10, 24))"
      ]
     },
     "execution_count": 119,
     "metadata": {},
     "output_type": "execute_result"
    }
   ],
   "source": [
    "X_, y_, scaler_energy = lstm_data(start='2016-01-01', stop='2016-01-17', n_lags=7)\n",
    "X_.shape, y_.shape"
   ]
  },
  {
   "cell_type": "markdown",
   "id": "e2313946-5068-42c2-b992-87749194d2d5",
   "metadata": {},
   "source": [
    "### Defining LSTM model and related function."
   ]
  },
  {
   "cell_type": "code",
   "execution_count": 122,
   "id": "4543d58d-3a10-491c-8f17-219ebb406257",
   "metadata": {},
   "outputs": [],
   "source": [
    "#define an LSTM model\n",
    "\n",
    "def lstm_in_out(n_features, n_hours, cells=50, learning_rate=1e-3):\n",
    "    \n",
    "    #define the model\n",
    "    \n",
    "    model = keras.models.Sequential()\n",
    "    model.add(keras.layers.LSTM(cells, activation='relu', return_sequences=True, input_shape=(n_features, n_hours)))\n",
    "    model.add(keras.layers.LSTM(int(cells/2), activation='relu'))\n",
    "    model.add(keras.layers.Dense(n_hours))\n",
    "    \n",
    "    #define the learning rate\n",
    "    optimizer = keras.optimizers.Adam(learning_rate=learning_rate)\n",
    "    \n",
    "    #compile model\n",
    "    model.compile(optimizer=optimizer, loss='mae')\n",
    "    \n",
    "    return model"
   ]
  },
  {
   "cell_type": "code",
   "execution_count": 124,
   "id": "7feed8b9-6a47-43fe-85f8-19b8c2be28ed",
   "metadata": {},
   "outputs": [
    {
     "name": "stderr",
     "output_type": "stream",
     "text": [
      "/Users/mmousavi/anaconda3/lib/python3.11/site-packages/keras/src/layers/rnn/rnn.py:204: UserWarning: Do not pass an `input_shape`/`input_dim` argument to a layer. When using Sequential models, prefer using an `Input(shape)` object as the first layer in the model instead.\n",
      "  super().__init__(**kwargs)\n"
     ]
    }
   ],
   "source": [
    "#Obtain the feature sets for X and y and set the train period \n",
    "#Use the data from 2016 to 2019 for training \n",
    "n_hours = 24\n",
    "lr = 1e-3\n",
    "verbose = 1\n",
    "epochs = 50\n",
    "max_lookback = 30\n",
    "extra_lag=True\n",
    "#prepare the data for training\n",
    "X_m, y_m, scaler_m = lstm_data(start='2016-01-01', \n",
    "                                                                    stop='2019-12-31', \n",
    "                                                                    n_lags=7, \n",
    "                                                                    extra_lag=True,\n",
    "                                                                    long_lag_step=7, \n",
    "                                                                    max_lookback=max_lookback)\n",
    "n_features = X_m.shape[1]\n",
    "lstm_m = lstm_in_out(n_features, n_hours, learning_rate=lr)\n",
    "\n"
   ]
  },
  {
   "cell_type": "code",
   "execution_count": 126,
   "id": "30cccc7c-217d-4361-91d4-ef7fec4b6e95",
   "metadata": {},
   "outputs": [
    {
     "data": {
      "text/plain": [
       "(1431, 24)"
      ]
     },
     "execution_count": 126,
     "metadata": {},
     "output_type": "execute_result"
    }
   ],
   "source": [
    "y_m.shape"
   ]
  },
  {
   "cell_type": "code",
   "execution_count": 128,
   "id": "e2471aa4-038e-4586-a30e-a19d9759cfd8",
   "metadata": {},
   "outputs": [
    {
     "data": {
      "text/plain": [
       "(1431, 110, 24)"
      ]
     },
     "execution_count": 128,
     "metadata": {},
     "output_type": "execute_result"
    }
   ],
   "source": [
    "X_m.shape"
   ]
  },
  {
   "cell_type": "code",
   "execution_count": 132,
   "id": "975750d3-930f-4db8-a55f-9dd352e57860",
   "metadata": {},
   "outputs": [
    {
     "name": "stdout",
     "output_type": "stream",
     "text": [
      "Epoch 1/50\n",
      "\u001b[1m45/45\u001b[0m \u001b[32m━━━━━━━━━━━━━━━━━━━━\u001b[0m\u001b[37m\u001b[0m \u001b[1m2s\u001b[0m 28ms/step - loss: 0.3366\n",
      "Epoch 2/50\n",
      "\u001b[1m45/45\u001b[0m \u001b[32m━━━━━━━━━━━━━━━━━━━━\u001b[0m\u001b[37m\u001b[0m \u001b[1m1s\u001b[0m 28ms/step - loss: 0.1563\n",
      "Epoch 3/50\n",
      "\u001b[1m45/45\u001b[0m \u001b[32m━━━━━━━━━━━━━━━━━━━━\u001b[0m\u001b[37m\u001b[0m \u001b[1m1s\u001b[0m 28ms/step - loss: 0.1181\n",
      "Epoch 4/50\n",
      "\u001b[1m45/45\u001b[0m \u001b[32m━━━━━━━━━━━━━━━━━━━━\u001b[0m\u001b[37m\u001b[0m \u001b[1m1s\u001b[0m 28ms/step - loss: 0.1099\n",
      "Epoch 5/50\n",
      "\u001b[1m45/45\u001b[0m \u001b[32m━━━━━━━━━━━━━━━━━━━━\u001b[0m\u001b[37m\u001b[0m \u001b[1m1s\u001b[0m 27ms/step - loss: 0.1067\n",
      "Epoch 6/50\n",
      "\u001b[1m45/45\u001b[0m \u001b[32m━━━━━━━━━━━━━━━━━━━━\u001b[0m\u001b[37m\u001b[0m \u001b[1m1s\u001b[0m 28ms/step - loss: 0.1044\n",
      "Epoch 7/50\n",
      "\u001b[1m45/45\u001b[0m \u001b[32m━━━━━━━━━━━━━━━━━━━━\u001b[0m\u001b[37m\u001b[0m \u001b[1m1s\u001b[0m 29ms/step - loss: 0.1032\n",
      "Epoch 8/50\n",
      "\u001b[1m45/45\u001b[0m \u001b[32m━━━━━━━━━━━━━━━━━━━━\u001b[0m\u001b[37m\u001b[0m \u001b[1m1s\u001b[0m 28ms/step - loss: 0.1025\n",
      "Epoch 9/50\n",
      "\u001b[1m45/45\u001b[0m \u001b[32m━━━━━━━━━━━━━━━━━━━━\u001b[0m\u001b[37m\u001b[0m \u001b[1m1s\u001b[0m 28ms/step - loss: 0.1020\n",
      "Epoch 10/50\n",
      "\u001b[1m45/45\u001b[0m \u001b[32m━━━━━━━━━━━━━━━━━━━━\u001b[0m\u001b[37m\u001b[0m \u001b[1m1s\u001b[0m 29ms/step - loss: 0.1008\n",
      "Epoch 11/50\n",
      "\u001b[1m45/45\u001b[0m \u001b[32m━━━━━━━━━━━━━━━━━━━━\u001b[0m\u001b[37m\u001b[0m \u001b[1m1s\u001b[0m 29ms/step - loss: 0.0999\n",
      "Epoch 12/50\n",
      "\u001b[1m45/45\u001b[0m \u001b[32m━━━━━━━━━━━━━━━━━━━━\u001b[0m\u001b[37m\u001b[0m \u001b[1m1s\u001b[0m 28ms/step - loss: 0.0988\n",
      "Epoch 13/50\n",
      "\u001b[1m45/45\u001b[0m \u001b[32m━━━━━━━━━━━━━━━━━━━━\u001b[0m\u001b[37m\u001b[0m \u001b[1m1s\u001b[0m 27ms/step - loss: 0.0978\n",
      "Epoch 14/50\n",
      "\u001b[1m45/45\u001b[0m \u001b[32m━━━━━━━━━━━━━━━━━━━━\u001b[0m\u001b[37m\u001b[0m \u001b[1m1s\u001b[0m 28ms/step - loss: 0.1029\n",
      "Epoch 15/50\n",
      "\u001b[1m45/45\u001b[0m \u001b[32m━━━━━━━━━━━━━━━━━━━━\u001b[0m\u001b[37m\u001b[0m \u001b[1m1s\u001b[0m 28ms/step - loss: 0.1022\n",
      "Epoch 16/50\n",
      "\u001b[1m45/45\u001b[0m \u001b[32m━━━━━━━━━━━━━━━━━━━━\u001b[0m\u001b[37m\u001b[0m \u001b[1m1s\u001b[0m 28ms/step - loss: 0.0954\n",
      "Epoch 17/50\n",
      "\u001b[1m45/45\u001b[0m \u001b[32m━━━━━━━━━━━━━━━━━━━━\u001b[0m\u001b[37m\u001b[0m \u001b[1m1s\u001b[0m 28ms/step - loss: 0.1004\n",
      "Epoch 18/50\n",
      "\u001b[1m45/45\u001b[0m \u001b[32m━━━━━━━━━━━━━━━━━━━━\u001b[0m\u001b[37m\u001b[0m \u001b[1m1s\u001b[0m 29ms/step - loss: 0.1050\n",
      "Epoch 19/50\n",
      "\u001b[1m45/45\u001b[0m \u001b[32m━━━━━━━━━━━━━━━━━━━━\u001b[0m\u001b[37m\u001b[0m \u001b[1m2s\u001b[0m 47ms/step - loss: 0.0888\n",
      "Epoch 20/50\n",
      "\u001b[1m45/45\u001b[0m \u001b[32m━━━━━━━━━━━━━━━━━━━━\u001b[0m\u001b[37m\u001b[0m \u001b[1m1s\u001b[0m 28ms/step - loss: 0.0922\n",
      "Epoch 21/50\n",
      "\u001b[1m45/45\u001b[0m \u001b[32m━━━━━━━━━━━━━━━━━━━━\u001b[0m\u001b[37m\u001b[0m \u001b[1m1s\u001b[0m 28ms/step - loss: 0.0900\n",
      "Epoch 22/50\n",
      "\u001b[1m45/45\u001b[0m \u001b[32m━━━━━━━━━━━━━━━━━━━━\u001b[0m\u001b[37m\u001b[0m \u001b[1m1s\u001b[0m 28ms/step - loss: 0.0859\n",
      "Epoch 23/50\n",
      "\u001b[1m45/45\u001b[0m \u001b[32m━━━━━━━━━━━━━━━━━━━━\u001b[0m\u001b[37m\u001b[0m \u001b[1m1s\u001b[0m 28ms/step - loss: 0.0806\n",
      "Epoch 24/50\n",
      "\u001b[1m45/45\u001b[0m \u001b[32m━━━━━━━━━━━━━━━━━━━━\u001b[0m\u001b[37m\u001b[0m \u001b[1m1s\u001b[0m 28ms/step - loss: 0.0774\n",
      "Epoch 25/50\n",
      "\u001b[1m45/45\u001b[0m \u001b[32m━━━━━━━━━━━━━━━━━━━━\u001b[0m\u001b[37m\u001b[0m \u001b[1m1s\u001b[0m 28ms/step - loss: 0.0785\n",
      "Epoch 26/50\n",
      "\u001b[1m45/45\u001b[0m \u001b[32m━━━━━━━━━━━━━━━━━━━━\u001b[0m\u001b[37m\u001b[0m \u001b[1m1s\u001b[0m 28ms/step - loss: 0.0758\n",
      "Epoch 27/50\n",
      "\u001b[1m45/45\u001b[0m \u001b[32m━━━━━━━━━━━━━━━━━━━━\u001b[0m\u001b[37m\u001b[0m \u001b[1m1s\u001b[0m 27ms/step - loss: 0.0753\n",
      "Epoch 28/50\n",
      "\u001b[1m45/45\u001b[0m \u001b[32m━━━━━━━━━━━━━━━━━━━━\u001b[0m\u001b[37m\u001b[0m \u001b[1m1s\u001b[0m 28ms/step - loss: 0.0728\n",
      "Epoch 29/50\n",
      "\u001b[1m45/45\u001b[0m \u001b[32m━━━━━━━━━━━━━━━━━━━━\u001b[0m\u001b[37m\u001b[0m \u001b[1m1s\u001b[0m 28ms/step - loss: 0.0706\n",
      "Epoch 30/50\n",
      "\u001b[1m45/45\u001b[0m \u001b[32m━━━━━━━━━━━━━━━━━━━━\u001b[0m\u001b[37m\u001b[0m \u001b[1m1s\u001b[0m 28ms/step - loss: 0.0701\n",
      "Epoch 31/50\n",
      "\u001b[1m45/45\u001b[0m \u001b[32m━━━━━━━━━━━━━━━━━━━━\u001b[0m\u001b[37m\u001b[0m \u001b[1m1s\u001b[0m 28ms/step - loss: 0.0699\n",
      "Epoch 32/50\n",
      "\u001b[1m45/45\u001b[0m \u001b[32m━━━━━━━━━━━━━━━━━━━━\u001b[0m\u001b[37m\u001b[0m \u001b[1m1s\u001b[0m 27ms/step - loss: 0.0685\n",
      "Epoch 33/50\n",
      "\u001b[1m45/45\u001b[0m \u001b[32m━━━━━━━━━━━━━━━━━━━━\u001b[0m\u001b[37m\u001b[0m \u001b[1m1s\u001b[0m 28ms/step - loss: 0.0687\n",
      "Epoch 34/50\n",
      "\u001b[1m45/45\u001b[0m \u001b[32m━━━━━━━━━━━━━━━━━━━━\u001b[0m\u001b[37m\u001b[0m \u001b[1m1s\u001b[0m 27ms/step - loss: 0.0686\n",
      "Epoch 35/50\n",
      "\u001b[1m45/45\u001b[0m \u001b[32m━━━━━━━━━━━━━━━━━━━━\u001b[0m\u001b[37m\u001b[0m \u001b[1m1s\u001b[0m 27ms/step - loss: 0.0666\n",
      "Epoch 36/50\n",
      "\u001b[1m45/45\u001b[0m \u001b[32m━━━━━━━━━━━━━━━━━━━━\u001b[0m\u001b[37m\u001b[0m \u001b[1m1s\u001b[0m 27ms/step - loss: 0.0674\n",
      "Epoch 37/50\n",
      "\u001b[1m45/45\u001b[0m \u001b[32m━━━━━━━━━━━━━━━━━━━━\u001b[0m\u001b[37m\u001b[0m \u001b[1m1s\u001b[0m 28ms/step - loss: 0.0681\n",
      "Epoch 38/50\n",
      "\u001b[1m45/45\u001b[0m \u001b[32m━━━━━━━━━━━━━━━━━━━━\u001b[0m\u001b[37m\u001b[0m \u001b[1m1s\u001b[0m 28ms/step - loss: 0.0664\n",
      "Epoch 39/50\n",
      "\u001b[1m45/45\u001b[0m \u001b[32m━━━━━━━━━━━━━━━━━━━━\u001b[0m\u001b[37m\u001b[0m \u001b[1m1s\u001b[0m 28ms/step - loss: 0.0653\n",
      "Epoch 40/50\n",
      "\u001b[1m45/45\u001b[0m \u001b[32m━━━━━━━━━━━━━━━━━━━━\u001b[0m\u001b[37m\u001b[0m \u001b[1m1s\u001b[0m 28ms/step - loss: 0.0646\n",
      "Epoch 41/50\n",
      "\u001b[1m45/45\u001b[0m \u001b[32m━━━━━━━━━━━━━━━━━━━━\u001b[0m\u001b[37m\u001b[0m \u001b[1m1s\u001b[0m 29ms/step - loss: 0.0634\n",
      "Epoch 42/50\n",
      "\u001b[1m45/45\u001b[0m \u001b[32m━━━━━━━━━━━━━━━━━━━━\u001b[0m\u001b[37m\u001b[0m \u001b[1m1s\u001b[0m 28ms/step - loss: 0.0633\n",
      "Epoch 43/50\n",
      "\u001b[1m45/45\u001b[0m \u001b[32m━━━━━━━━━━━━━━━━━━━━\u001b[0m\u001b[37m\u001b[0m \u001b[1m1s\u001b[0m 28ms/step - loss: 0.0682\n",
      "Epoch 44/50\n",
      "\u001b[1m45/45\u001b[0m \u001b[32m━━━━━━━━━━━━━━━━━━━━\u001b[0m\u001b[37m\u001b[0m \u001b[1m1s\u001b[0m 29ms/step - loss: 0.0667\n",
      "Epoch 45/50\n",
      "\u001b[1m45/45\u001b[0m \u001b[32m━━━━━━━━━━━━━━━━━━━━\u001b[0m\u001b[37m\u001b[0m \u001b[1m1s\u001b[0m 27ms/step - loss: 0.0698\n",
      "Epoch 46/50\n",
      "\u001b[1m45/45\u001b[0m \u001b[32m━━━━━━━━━━━━━━━━━━━━\u001b[0m\u001b[37m\u001b[0m \u001b[1m1s\u001b[0m 28ms/step - loss: 0.0630\n",
      "Epoch 47/50\n",
      "\u001b[1m45/45\u001b[0m \u001b[32m━━━━━━━━━━━━━━━━━━━━\u001b[0m\u001b[37m\u001b[0m \u001b[1m1s\u001b[0m 29ms/step - loss: 0.0708\n",
      "Epoch 48/50\n",
      "\u001b[1m45/45\u001b[0m \u001b[32m━━━━━━━━━━━━━━━━━━━━\u001b[0m\u001b[37m\u001b[0m \u001b[1m1s\u001b[0m 29ms/step - loss: 0.0604\n",
      "Epoch 49/50\n",
      "\u001b[1m45/45\u001b[0m \u001b[32m━━━━━━━━━━━━━━━━━━━━\u001b[0m\u001b[37m\u001b[0m \u001b[1m1s\u001b[0m 28ms/step - loss: 0.0647\n",
      "Epoch 50/50\n",
      "\u001b[1m45/45\u001b[0m \u001b[32m━━━━━━━━━━━━━━━━━━━━\u001b[0m\u001b[37m\u001b[0m \u001b[1m1s\u001b[0m 28ms/step - loss: 0.0620\n"
     ]
    },
    {
     "data": {
      "text/plain": [
       "<keras.src.callbacks.history.History at 0x2954a93d0>"
      ]
     },
     "execution_count": 132,
     "metadata": {},
     "output_type": "execute_result"
    }
   ],
   "source": [
    "#train the model for 4 years\n",
    "lstm_m.fit(X_m, y_m, epochs=epochs, verbose=verbose, shuffle=False)"
   ]
  },
  {
   "cell_type": "code",
   "execution_count": 134,
   "id": "0e97e680-80cf-4e95-9607-f8b03933964d",
   "metadata": {},
   "outputs": [],
   "source": [
    "#prepare test data for year 2020\n",
    "X_m_test, y_m_test, scaler_m = lstm_data(scaler_m, start='2020-01-01', \n",
    "                                                                    stop='2020-12-31', \n",
    "                                                                    n_lags=7, \n",
    "                                                                    extra_lag=True,\n",
    "                                                                    long_lag_step=7, \n",
    "                                                                    max_lookback=max_lookback)"
   ]
  },
  {
   "cell_type": "code",
   "execution_count": 136,
   "id": "02ff9c88-20be-4c55-ad94-1d18784c5f26",
   "metadata": {},
   "outputs": [
    {
     "data": {
      "text/plain": [
       "(336, 110, 24)"
      ]
     },
     "execution_count": 136,
     "metadata": {},
     "output_type": "execute_result"
    }
   ],
   "source": [
    "X_m_test.shape"
   ]
  },
  {
   "cell_type": "code",
   "execution_count": 138,
   "id": "c2b3ae64-fac4-4ad0-8b72-8be0214a8c22",
   "metadata": {},
   "outputs": [
    {
     "data": {
      "text/plain": [
       "(336, 24)"
      ]
     },
     "execution_count": 138,
     "metadata": {},
     "output_type": "execute_result"
    }
   ],
   "source": [
    "y_m_test.shape"
   ]
  },
  {
   "cell_type": "code",
   "execution_count": 140,
   "id": "a04ab1fc-2963-4777-9204-a1b4a62f5b21",
   "metadata": {},
   "outputs": [
    {
     "name": "stdout",
     "output_type": "stream",
     "text": [
      "\u001b[1m11/11\u001b[0m \u001b[32m━━━━━━━━━━━━━━━━━━━━\u001b[0m\u001b[37m\u001b[0m \u001b[1m0s\u001b[0m 19ms/step\n"
     ]
    }
   ],
   "source": [
    "#predict for the test set\n",
    "predict = lstm_m.predict(X_m_test, verbose=verbose)"
   ]
  },
  {
   "cell_type": "code",
   "execution_count": 152,
   "id": "4091c647-f360-4356-95f3-3276d95d603c",
   "metadata": {},
   "outputs": [
    {
     "name": "stdout",
     "output_type": "stream",
     "text": [
      "(1, 336, 24)\n",
      "(1, 336, 24)\n"
     ]
    }
   ],
   "source": [
    "# obtain the true values for predictions and actuals\n",
    "predictions = []\n",
    "actuals = []\n",
    "\n",
    "\n",
    "#inverse transform values\n",
    "prediction = scaler_m.inverse_transform(predict)\n",
    "actual = scaler_m.inverse_transform(y_m_test.copy())\n",
    "\n",
    "#save the results in a list\n",
    "predictions.append(prediction)\n",
    "actuals.append(actual)\n",
    "\n",
    "\n",
    "#convert results to numpy array for easy manipulation\n",
    "predictions = np.array(predictions)\n",
    "actuals = np.array(actuals)\n",
    "\n",
    "print(predictions.shape)\n",
    "print(actuals.shape)\n",
    " \n"
   ]
  },
  {
   "cell_type": "markdown",
   "id": "8eca49a1-d025-43cd-8129-596eea39ea7c",
   "metadata": {},
   "source": [
    "### Obtain MAPE for 3 days in July and 3 days in August 2020 for which MAPE is less than 4%, then draw the graphs for the predicted and actual 24 hours demands"
   ]
  },
  {
   "cell_type": "code",
   "execution_count": 182,
   "id": "b1055694-60cc-444f-ad66-341ba74438d1",
   "metadata": {},
   "outputs": [],
   "source": [
    "days=[]\n",
    "for i in range(183, 244):\n",
    "    mape = sam_mape(actuals[0][i], predictions[0][i])\n",
    "    if mape<4:\n",
    "        days.append(i)"
   ]
  },
  {
   "cell_type": "code",
   "execution_count": 257,
   "id": "7c50fd05-04cc-4992-b35a-467370628e99",
   "metadata": {},
   "outputs": [
    {
     "name": "stdout",
     "output_type": "stream",
     "text": [
      "3.7\n"
     ]
    }
   ],
   "source": [
    "mape_1 = sam_mape(actuals[0][days[0]], predictions[0][days[0]])\n",
    "print(round(mape_1, 1))\n",
    "# Wednesday\n",
    "# July 1, 2020"
   ]
  },
  {
   "cell_type": "code",
   "execution_count": 259,
   "id": "fbc2de83-94ce-4048-bf52-48cb6db3b17e",
   "metadata": {},
   "outputs": [
    {
     "name": "stdout",
     "output_type": "stream",
     "text": [
      "2.5\n"
     ]
    }
   ],
   "source": [
    "mape_2 = sam_mape(actuals[0][days[4]], predictions[0][days[4]])\n",
    "print(round(mape_2, 1))\n",
    "# Friday\n",
    "# July 17, 2020"
   ]
  },
  {
   "cell_type": "code",
   "execution_count": 261,
   "id": "6fa2bf01-8fd6-45d3-9f84-5ee12c49cab6",
   "metadata": {},
   "outputs": [
    {
     "name": "stdout",
     "output_type": "stream",
     "text": [
      "3.6\n"
     ]
    }
   ],
   "source": [
    "mape_3 = sam_mape(actuals[0][days[7]], predictions[0][days[7]])\n",
    "print(round(mape_3, 1))\n",
    "# Thursday\n",
    "# July 30, 2020"
   ]
  },
  {
   "cell_type": "code",
   "execution_count": 263,
   "id": "be4ce2d1-a46c-4354-9c2e-2e97a78cecd6",
   "metadata": {},
   "outputs": [
    {
     "name": "stdout",
     "output_type": "stream",
     "text": [
      "3.0\n"
     ]
    }
   ],
   "source": [
    "mape_4 = sam_mape(actuals[0][days[11]], predictions[0][days[11]])\n",
    "print(round(mape_4,1))\n",
    "# Sunday\n",
    "# August 9, 2020"
   ]
  },
  {
   "cell_type": "code",
   "execution_count": 265,
   "id": "f841aca8-1078-41b6-84cc-d9c081d11e8f",
   "metadata": {},
   "outputs": [
    {
     "name": "stdout",
     "output_type": "stream",
     "text": [
      "2.3\n"
     ]
    }
   ],
   "source": [
    "mape_5 = sam_mape(actuals[0][days[15]], predictions[0][days[15]])\n",
    "print(round(mape_5, 1))\n",
    "# Saturday\n",
    "# August 15, 2020"
   ]
  },
  {
   "cell_type": "code",
   "execution_count": 267,
   "id": "f8f1e105-f760-47c1-86c5-1e8ee08b8882",
   "metadata": {},
   "outputs": [
    {
     "name": "stdout",
     "output_type": "stream",
     "text": [
      "2.2\n"
     ]
    }
   ],
   "source": [
    "mape_6 = sam_mape(actuals[0][days[20]], predictions[0][days[20]])\n",
    "print(round(mape_6, 1))\n",
    "# Saturday\n",
    "# August 22, 2020"
   ]
  },
  {
   "cell_type": "code",
   "execution_count": 253,
   "id": "20feccc8-663a-4220-8833-e20f66e81216",
   "metadata": {},
   "outputs": [],
   "source": [
    "def plot_all(actuals, predictions):\n",
    "\n",
    "    \n",
    "    plots = 2\n",
    "    \n",
    "    days = [183, 199, 212, 222, 228, 235]\n",
    "    day_name_mape = {228:f\"Saturday August 15, 2020, MAPE={round(mape_5,1)}%\",\n",
    "                     222:f\" Sunday August 9, 2020, MAPE={round(mape_4, 1)}%\",\n",
    "                     235:f\"Saturday August 22, 2020, MAPE={round(mape_6,1)}%\",\n",
    "                    183:f\"Wednesday July 1, 2020, MAPE={round(mape_1,1)}%\",\n",
    "                     199:f\" Friday July 17, 2020, MAPE={round(mape_2, 1)}%\",\n",
    "                     212:f\"Thursday July 30, 2020, MAPE={round(mape_3,1)}%\"}\n",
    "    #set figure\n",
    "    fig, axs = plt.subplots(plots,3, figsize=(6,4), squeeze=False)\n",
    "\n",
    "    #loop through plots then loop through the days\n",
    "    for i, axe in zip(range(plots), axs):\n",
    "        for day, ax in zip(days, axe):\n",
    "            \n",
    "            #plot the predictions\n",
    "            ax.plot(predictions[0][day], label='predicted')\n",
    "            #plot actual values\n",
    "            ax.plot(actuals[0][day], label='actual')\n",
    "            ax.tick_params(axis='y', labelsize=6)\n",
    "            ax.set_title('{}'.format(day_name_mape[day]),fontsize=6)\n",
    "        days = days[3:]  \n",
    "    #position the legend in the top left position of the top left chart.\n",
    "    axs[0][0].legend(loc=2, fontsize=6)\n",
    "    plt.subplots_adjust(hspace=0.3)"
   ]
  },
  {
   "cell_type": "code",
   "execution_count": 255,
   "id": "9e6f8976-3387-4f0d-986e-8b9ba1fcbf65",
   "metadata": {},
   "outputs": [
    {
     "data": {
      "image/png": "[encoded data removed]",
      "text/plain": [
       "<Figure size 600x400 with 6 Axes>"
      ]
     },
     "metadata": {},
     "output_type": "display_data"
    }
   ],
   "source": [
    "plot_all(actuals, predictions)"
   ]
  },
  {
   "cell_type": "code",
   "execution_count": null,
   "id": "fe77af69-3ce1-4804-a150-49164040cbbe",
   "metadata": {},
   "outputs": [],
   "source": []
  }
 ],
 "metadata": {
  "kernelspec": {
   "display_name": "Python 3 (ipykernel)",
   "language": "python",
   "name": "python3"
  },
  "language_info": {
   "codemirror_mode": {
    "name": "ipython",
    "version": 3
   },
   "file_extension": ".py",
   "mimetype": "text/x-python",
   "name": "python",
   "nbconvert_exporter": "python",
   "pygments_lexer": "ipython3",
   "version": "3.11.8"
  }
 },
 "nbformat": 4,
 "nbformat_minor": 5
}
